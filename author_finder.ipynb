{
 "cells": [
  {
   "attachments": {},
   "cell_type": "markdown",
   "id": "c90bf3f0",
   "metadata": {},
   "source": [
    "# RDoC Expert Survey Author Finder\n",
    "Chris Iyer\n",
    "Updated 3/23/2023\n",
    "\n",
    "This is a notebook designed to find authors' emails for the purposes of sending them our RDoC Expert Survey Screener. Leveraging functions from `author_finder_functions.py`, this notebook will do the following things for each of the tasks we are using:\n",
    "1. Search pubmed central (PMC) for articles in the past 10 years with task keywords in the abstract.\n",
    "2. Obtain correspondence/author emails for as many of these articles as possible.\n",
    "3. Retrieve the number of PMC articles that cite the given PMC article.\n",
    "4. Select the top <n> (100?) most-cited papers and retrieve their emails in order to send them our expert screener. \n",
    "5. We'll write these emails to a CSV.\n"
   ]
  },
  {
   "cell_type": "code",
   "execution_count": 38,
   "id": "bc3efeb2",
   "metadata": {},
   "outputs": [],
   "source": [
    "from author_finder_functions import *"
   ]
  },
  {
   "cell_type": "code",
   "execution_count": 11,
   "id": "a99ce4b4",
   "metadata": {},
   "outputs": [],
   "source": [
    "ROOT_PATH = '/Users/chrisiyer/Downloads/pubget_data/' # change this to match your local desired path\n",
    "\n",
    "# tasks: 'spatial_cueing', 'visual_search', 'cued_ts', 'ax_cpt', 'flanker', \n",
    "# 'stroop', 'stop_signal', 'go_nogo', 'span', 'change_detection', 'n_back'\n",
    "task_to_run = 'stop_signal'"
   ]
  },
  {
   "attachments": {},
   "cell_type": "markdown",
   "id": "f8d53f9a",
   "metadata": {},
   "source": [
    "### Option 1: run all-in-one"
   ]
  },
  {
   "cell_type": "code",
   "execution_count": null,
   "id": "1aea3a17",
   "metadata": {},
   "outputs": [],
   "source": [
    "run_author_finder(task_to_run, ROOT_PATH)"
   ]
  },
  {
   "attachments": {},
   "cell_type": "markdown",
   "id": "05ed3b57",
   "metadata": {},
   "source": [
    "### Option 2: run step-by-step"
   ]
  },
  {
   "cell_type": "code",
   "execution_count": 12,
   "id": "ace307e8",
   "metadata": {},
   "outputs": [
    {
     "name": "stderr",
     "output_type": "stream",
     "text": [
      "INFO\t2023-03-23T15:59:29-0700\tpubget._download\tDownloading data in /Users/chrisiyer/Downloads/pubget_data/stop_signal/query_7019ce81537d5bf2729a725f2df82444/articlesets\n",
      "INFO\t2023-03-23T15:59:29-0700\tpubget._download\tPerforming search\n",
      "INFO\t2023-03-23T15:59:30-0700\tpubget._entrez\tSearch returned 487 results\n",
      "INFO\t2023-03-23T15:59:30-0700\tpubget._entrez\tDownloading 487 articles (in 1 batches)\n",
      "INFO\t2023-03-23T15:59:30-0700\tpubget._entrez\tgetting batch 1 / 1\n",
      "INFO\t2023-03-23T15:59:48-0700\tpubget._download\tFinished downloading articles in /Users/chrisiyer/Downloads/pubget_data/stop_signal/query_7019ce81537d5bf2729a725f2df82444/articlesets\n",
      "INFO\t2023-03-23T15:59:48-0700\tpubget._download\tAll articles matching the query have been downloaded\n",
      "INFO\t2023-03-23T15:59:48-0700\tpubget._articles\tExtracting articles from /Users/chrisiyer/Downloads/pubget_data/stop_signal/query_7019ce81537d5bf2729a725f2df82444/articlesets to /Users/chrisiyer/Downloads/pubget_data/stop_signal/query_7019ce81537d5bf2729a725f2df82444/articles\n",
      "INFO\t2023-03-23T15:59:48-0700\tpubget._articles\tExtracting articles from PMC articlesets.\n",
      "[Parallel(n_jobs=1)]: Using backend SequentialBackend with 1 concurrent workers.\n",
      "[Parallel(n_jobs=1)]: Done   1 out of   1 | elapsed:    3.0s remaining:    0.0s\n",
      "[Parallel(n_jobs=1)]: Done   1 out of   1 | elapsed:    3.0s finished\n",
      "INFO\t2023-03-23T15:59:51-0700\tpubget._articles\tDone extracting 487 articles from PMC articlesets.\n",
      "INFO\t2023-03-23T15:59:51-0700\tpubget._articles\tExtracting tables from articles.\n",
      "[Parallel(n_jobs=1)]: Using backend SequentialBackend with 1 concurrent workers.\n",
      "[Parallel(n_jobs=1)]: Done   1 out of   1 | elapsed:    0.4s remaining:    0.0s\n",
      "[Parallel(n_jobs=1)]: Done   2 out of   2 | elapsed:    0.4s remaining:    0.0s\n",
      "[Parallel(n_jobs=1)]: Done   3 out of   3 | elapsed:    0.5s remaining:    0.0s\n",
      "[Parallel(n_jobs=1)]: Done   4 out of   4 | elapsed:    0.5s remaining:    0.0s\n",
      "[Parallel(n_jobs=1)]: Done   5 out of   5 | elapsed:    0.6s remaining:    0.0s\n",
      "[Parallel(n_jobs=1)]: Done   6 out of   6 | elapsed:    0.6s remaining:    0.0s\n",
      "[Parallel(n_jobs=1)]: Done   7 out of   7 | elapsed:    0.6s remaining:    0.0s\n",
      "[Parallel(n_jobs=1)]: Done 487 out of 487 | elapsed:   17.3s finished\n",
      "INFO\t2023-03-23T16:00:08-0700\tpubget._articles\tDone extracting tables from articles.\n",
      "INFO\t2023-03-23T16:00:08-0700\tpubget._articles\tExtracted 487 articles from /Users/chrisiyer/Downloads/pubget_data/stop_signal/query_7019ce81537d5bf2729a725f2df82444/articlesets to /Users/chrisiyer/Downloads/pubget_data/stop_signal/query_7019ce81537d5bf2729a725f2df82444/articles\n",
      "INFO\t2023-03-23T16:00:08-0700\tpubget._data_extraction\tExtracting data from articles in /Users/chrisiyer/Downloads/pubget_data/stop_signal/query_7019ce81537d5bf2729a725f2df82444/articles to /Users/chrisiyer/Downloads/pubget_data/stop_signal/query_7019ce81537d5bf2729a725f2df82444/subset_allArticles_extractedData\n",
      "INFO\t2023-03-23T16:00:12-0700\tpubget._data_extraction\tProcessed 100 / 487 articles.\n",
      "INFO\t2023-03-23T16:00:15-0700\tpubget._data_extraction\tProcessed 200 / 487 articles.\n",
      "INFO\t2023-03-23T16:00:19-0700\tpubget._data_extraction\tProcessed 300 / 487 articles.\n",
      "INFO\t2023-03-23T16:00:23-0700\tpubget._data_extraction\tProcessed 400 / 487 articles.\n",
      "INFO\t2023-03-23T16:00:25-0700\tpubget._data_extraction\tProcessed 487 / 487 articles.\n",
      "INFO\t2023-03-23T16:00:26-0700\tpubget._data_extraction\tDone extracting article data to csv files in /Users/chrisiyer/Downloads/pubget_data/stop_signal/query_7019ce81537d5bf2729a725f2df82444/subset_allArticles_extractedData\n"
     ]
    }
   ],
   "source": [
    "# 1. Pubmed search\n",
    "outpath = os.path.join(ROOT_PATH, task_to_run)\n",
    "do_pubget_query(task_keywords[task_to_run], outpath) # writes directory with search results"
   ]
  },
  {
   "cell_type": "code",
   "execution_count": 13,
   "id": "6e1edf7a",
   "metadata": {},
   "outputs": [
    {
     "name": "stdout",
     "output_type": "stream",
     "text": [
      "Article set #1:\n",
      "Out of 487 papers, 476 had emails and 11 did not.\n",
      "Result: 487 papers; 476 with emails.\n"
     ]
    }
   ],
   "source": [
    "# 2. Pull emails and PMCIDS\n",
    "query_path = os.path.join(outpath,\n",
    "                           [i for i in os.listdir(ROOT_PATH + task_to_run) if i.startswith('query')][0],\n",
    "                           'articlesets')\n",
    "papers = get_all_emails(query_path) # PMCIDs and emails"
   ]
  },
  {
   "cell_type": "code",
   "execution_count": 14,
   "id": "906f24c0",
   "metadata": {},
   "outputs": [],
   "source": [
    "# 3. Top 100 most cited\n",
    "papers_top = get_most_cited(papers, n=100) "
   ]
  },
  {
   "cell_type": "code",
   "execution_count": 43,
   "id": "098c3d68",
   "metadata": {},
   "outputs": [
    {
     "data": {
      "text/plain": [
       "array(['Chambersc1@cardiff.ac.uk', 'F.L.J.Verbruggen@exeter.ac.uk',\n",
       "       'James.Rowe@mrc-cbu.cam.ac.uk', 'M.J.Howard@kent.ac.uk',\n",
       "       'Marieke.mur@mrc-cbu.cam.ac.uk', 'Natalia.Lawrence@exeter.ac.uk',\n",
       "       'a.c.sanchesferreira@bham.ac.uk', 'a.hampshire@imperial.ac.uk',\n",
       "       'adam.frost@ucsf.edu', 'adamaron@ucsd.edu',\n",
       "       'adamsrc1@cardiff.ac.uk', 'agrethe@ucsd.edu', 'ajj@liv.ac.uk',\n",
       "       'am2505@medschl.cam.ac.uk', 'amy_caswell@brown.edu',\n",
       "       'andbari@gmail.com', 'angie.kehagia@gmail.com',\n",
       "       'anna.wredenberg@ki.se', 'assari@umich.edu',\n",
       "       'ayayak-tky@umin.ac.jp', 'b.c.h.huijgen@umcg.nl',\n",
       "       'bernd-fritzsch@uiowa.edu',\n",
       "       'bernhard.nieswandt@virchow.uni-wuerzburg.de',\n",
       "       'c.lavallee@uni-oldenburg.de', 'c.rae@bsms.ac.uk',\n",
       "       'c3chen@ntu.edu.tw', 'charlotte.rae@mrc-cbu.cam.ac.uk',\n",
       "       'chiang-shan.li@yale.edu', 'chijuan@cc.ncu.edu.tw',\n",
       "       'choijs73@gmail.com', 'christoph.freyer@ki.se',\n",
       "       'claire.ocallaghan@sydney.edu.au', 'd.matzke@uva.nl',\n",
       "       'd.vanrooij@fcdonders.ru.nl', 'dan.larson@nih.gov',\n",
       "       'david.weinberg@ucsf.edu', 'dlliao@balipc.gov.tw',\n",
       "       'ellen.vanderplas@sickkids.ca', 'eyalkala@post.bgu.ac.il',\n",
       "       'f.l.j.verbruggen@exeter.ac.uk', 'farshad.mansouri@monash.edu',\n",
       "       'frankhezemans@gmail.com', 'frederick.verbruggen@ugent.be',\n",
       "       'friehs@uni-trier.de', 'gaertnj@med.uni-goettingen.de',\n",
       "       'giovanni.mirabella@uniroma1.it', 'h.elchlepp@exeter.ac.uk',\n",
       "       'hbellen@bcm.edu', 'hedgec@cardiff.ac.uk',\n",
       "       'ioannik@doctors.org.uk', 'james.rowe@mrc-cbu.cam.ac.uk',\n",
       "       'jan-wessel@uiowa.edu', 'jasmin.vassileva@vcuhealth.org',\n",
       "       'jeffrey.d.schall@vanderbilt.edu', 'jgeorge@uab.edu',\n",
       "       'jnieh@ucsd.edu', 'jongrant@uchicago.edu',\n",
       "       'journals.permissions@oup.com', 'julien.bastin@ujf-grenoble.fr',\n",
       "       'kat35@cam.ac.uk', 'kdj922@catholic.ac.kr', 'kentan@xtbg.ac.cn',\n",
       "       'kiathui.khng@nie.edu.sg', 'kimsejoo@yuhs.ac',\n",
       "       'kldyer@alumni.uwo.ca', 'l.verburgh@vu.nl',\n",
       "       'leidy-janeth.castro-meneses@students.mq.edu.au',\n",
       "       'lhawk@buffalo.edu', 'luhmann@uni-mainz.de',\n",
       "       'maria.leggio@uniroma1.it', 'mfield@liverpool.ac.uk',\n",
       "       'mgbubnik@buffalo.edu', 'michael.anderson@mrc-cbu.cam.ac.uk',\n",
       "       'mjb246@exeter.ac.uk', 'mjmaraver@ugr.es',\n",
       "       'mohsenbazargan@cdrewu.edu', 'mpardue@emory.edu',\n",
       "       'mroesch@umd.edu', 'mromano@unich.it', 'mschel@fsw.leidenuniv.nl',\n",
       "       'nogac@post.bgu.ac.il', 'ns594@cam.ac.uk',\n",
       "       'olivier.namy@igmors.u-psud.fr', 'pbissett@stanford.edu',\n",
       "       'peter@petersmittenaar.com', 'peter@walterlab.ucsf.edu',\n",
       "       'petra.fischer@ndcn.ox.ac.uk', 'ragreen@jhmi.edu',\n",
       "       'ran.littman@mail.huji.ac.il', 'roderic.guigo@crg.cat',\n",
       "       'rosch@kennedykrieger.org', 'rturner@pitt.edu',\n",
       "       'russell.schachar@sickkids.on.ca', 's.geppert@uni-oldenburg.de',\n",
       "       'sara.borgomaneri@unibo.it', 'shanikaboyce@cdrewu.edu',\n",
       "       'sheng.zhang@yale.edu', 'sien.hu@yale.edu',\n",
       "       'simone.battaglia@unibo.it', 'sm658@cam.ac.uk',\n",
       "       'stefano.ferraina@uniroma1.it', 'stephan.heinzel@fu-berlin.de',\n",
       "       'sven.thoms@med.uni-goettingen.de', 't.duka@sussex.ac.uk',\n",
       "       'taylor.schmitz@mrc-cbu.cam.ac.uk', 'tcunillera@ub.edu',\n",
       "       'tian.bme@gmail.com.', 'vgladyshev@rics.bwh.harvard.edu',\n",
       "       'vishal.rawji.11@ucl.ac.uk', 'voonval@gmail.com',\n",
       "       'vv247@cam.ac.uk', 'warren.tate@otago.ac.nz',\n",
       "       'wdfosco@buffalo.edu', 'yuhua.guo@mrc-cbu.cam.ac.uk'], dtype='<U46')"
      ]
     },
     "execution_count": 43,
     "metadata": {},
     "output_type": "execute_result"
    }
   ],
   "source": [
    "# 4. Write final csv\n",
    "write_email_txt(papers_top, outpath)"
   ]
  },
  {
   "attachments": {},
   "cell_type": "markdown",
   "id": "949478b4",
   "metadata": {},
   "source": [
    "### CURRENT PROBLEMS"
   ]
  },
  {
   "attachments": {},
   "cell_type": "markdown",
   "id": "5bd3dfb7",
   "metadata": {},
   "source": [
    "1. The keywords are imperfect. Including \"task\" will exclude a lot of good papers, but leaving it out means we get articles like [this article](https://www.ncbi.nlm.nih.gov/pmc/articles/PMC4359377/) that are about the 'stop codon acting as a stop signal' and not about the stop signal task at all."
   ]
  },
  {
   "attachments": {},
   "cell_type": "markdown",
   "id": "08c3de6f",
   "metadata": {},
   "source": [
    "2. A few emails are lost (somewhere in the ballpark of 2%). I'm not worried."
   ]
  },
  {
   "attachments": {},
   "cell_type": "markdown",
   "id": "30830862",
   "metadata": {},
   "source": [
    "3. We are sorting by # of citations only of other papers in PMC (not necessarily all citations of the paper, but just the ones in PMC). "
   ]
  },
  {
   "attachments": {},
   "cell_type": "markdown",
   "id": "32d357b8",
   "metadata": {},
   "source": [
    "4. The search results are not lining up to what I get when I manually search using the same query in [PMC Advanced Search](https://www.ncbi.nlm.nih.gov/pmc/advanced). I'm looking into this."
   ]
  }
 ],
 "metadata": {
  "kernelspec": {
   "display_name": "Python 3 (ipykernel)",
   "language": "python",
   "name": "python3"
  },
  "language_info": {
   "codemirror_mode": {
    "name": "ipython",
    "version": 3
   },
   "file_extension": ".py",
   "mimetype": "text/x-python",
   "name": "python",
   "nbconvert_exporter": "python",
   "pygments_lexer": "ipython3",
   "version": "3.10.9"
  }
 },
 "nbformat": 4,
 "nbformat_minor": 5
}
