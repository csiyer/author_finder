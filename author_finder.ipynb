{
 "cells": [
  {
   "attachments": {},
   "cell_type": "markdown",
   "id": "c90bf3f0",
   "metadata": {},
   "source": [
    "# RDoC Expert Survey Author Finder\n",
    "Chris Iyer\n",
    "Updated 3/23/2023\n",
    "\n",
    "This is a notebook designed to find authors' emails for the purposes of sending them our RDoC Expert Survey Screener. Leveraging functions from `author_finder_functions.py`, this notebook will do the following things for each of the tasks we are using:\n",
    "1. Search pubmed central (PMC) for open-access articles in the past 10 years with task keywords in the abstract.\n",
    "2. Obtain correspondence/author emails for as many of these articles as possible.\n",
    "3. Retrieve the number of PMC articles that cite the given PMC article.\n",
    "4. Select the top <n> (100?) most-cited papers and retrieve their emails in order to send them our expert screener. \n",
    "5. We'll write these emails to a CSV.\n"
   ]
  },
  {
   "cell_type": "code",
   "execution_count": 1,
   "id": "bc3efeb2",
   "metadata": {},
   "outputs": [],
   "source": [
    "from author_finder_functions import *"
   ]
  },
  {
   "cell_type": "code",
   "execution_count": 2,
   "id": "a99ce4b4",
   "metadata": {},
   "outputs": [],
   "source": [
    "ROOT_PATH = '/Users/chrisiyer/_Current/lab/code/author_finder/pubget_data/' # change this to match your local desired path\n",
    "\n",
    "# tasks: 'spatial_cueing', 'visual_search', 'cued_ts', 'ax_cpt', 'flanker', 'stroop', 'stop_signal', 'go_nogo', 'span', 'change_detection', 'n_back'\n",
    "all_tasks = ['spatial_cueing', 'visual_search', 'cued_ts', 'ax_cpt', 'flanker', 'stroop', 'stop_signal', 'go_nogo', 'span', 'change_detection', 'n_back']\n",
    "tasks_to_run = all_tasks\n",
    "\n",
    "# if you would like to manually change the keywords to search through, do so here:\n",
    "# task_keywords[task_to_run] = ['stop-signal task', 'stop signal task']"
   ]
  },
  {
   "attachments": {},
   "cell_type": "markdown",
   "id": "f8d53f9a",
   "metadata": {},
   "source": [
    "### Option 1: run all-in-one"
   ]
  },
  {
   "cell_type": "code",
   "execution_count": 3,
   "id": "1aea3a17",
   "metadata": {},
   "outputs": [
    {
     "name": "stderr",
     "output_type": "stream",
     "text": [
      "INFO\t2023-04-07T14:47:47-0700\tpubget._download\tNothing to do: current processing step 'download' already completed in /Users/chrisiyer/_Current/lab/code/author_finder/pubget_data/spatial_cueing/query_985725b7fed8fc29d2aca0ec88f29238/articlesets\n",
      "INFO\t2023-04-07T14:47:47-0700\tpubget._articles\tNothing to do: current processing step 'extract_articles' already completed in /Users/chrisiyer/_Current/lab/code/author_finder/pubget_data/spatial_cueing/query_985725b7fed8fc29d2aca0ec88f29238/articles\n",
      "INFO\t2023-04-07T14:47:47-0700\tpubget._data_extraction\tNothing to do: current processing step 'extract_data' already completed in /Users/chrisiyer/_Current/lab/code/author_finder/pubget_data/spatial_cueing/query_985725b7fed8fc29d2aca0ec88f29238/subset_allArticles_extractedData\n"
     ]
    },
    {
     "ename": "NameError",
     "evalue": "name 'ROOT_PATH' is not defined",
     "output_type": "error",
     "traceback": [
      "\u001b[0;31m---------------------------------------------------------------------------\u001b[0m",
      "\u001b[0;31mNameError\u001b[0m                                 Traceback (most recent call last)",
      "Cell \u001b[0;32mIn[3], line 1\u001b[0m\n\u001b[0;32m----> 1\u001b[0m run_author_finder(tasks_to_run, ROOT_PATH, output \u001b[39m=\u001b[39;49m \u001b[39m'\u001b[39;49m\u001b[39mcsv\u001b[39;49m\u001b[39m'\u001b[39;49m)\n",
      "File \u001b[0;32m~/_Current/lab/code/author_finder/author_finder_functions.py:141\u001b[0m, in \u001b[0;36mrun_author_finder\u001b[0;34m(tasks_to_run, ROOT_PATH, output)\u001b[0m\n\u001b[1;32m    138\u001b[0m do_pubget_query(task_keywords[task_to_run], outpath)\n\u001b[1;32m    140\u001b[0m \u001b[39m# gets list of dicts with pmcid and emails\u001b[39;00m\n\u001b[0;32m--> 141\u001b[0m papers \u001b[39m=\u001b[39m get_all_emails(outpath)\n\u001b[1;32m    143\u001b[0m \u001b[39m# gets top 100 most cited\u001b[39;00m\n\u001b[1;32m    144\u001b[0m papers_top \u001b[39m=\u001b[39m get_most_cited(papers, n\u001b[39m=\u001b[39m\u001b[39m100\u001b[39m)\n",
      "File \u001b[0;32m~/_Current/lab/code/author_finder/author_finder_functions.py:56\u001b[0m, in \u001b[0;36mget_all_emails\u001b[0;34m(outpath)\u001b[0m\n\u001b[1;32m     54\u001b[0m \u001b[39mdef\u001b[39;00m \u001b[39mget_all_emails\u001b[39m(outpath):\n\u001b[1;32m     55\u001b[0m     articleset_path \u001b[39m=\u001b[39m os\u001b[39m.\u001b[39mpath\u001b[39m.\u001b[39mjoin(outpath, \n\u001b[0;32m---> 56\u001b[0m                                 [i \u001b[39mfor\u001b[39;00m i \u001b[39min\u001b[39;00m os\u001b[39m.\u001b[39mlistdir(ROOT_PATH \u001b[39m+\u001b[39m task_to_run) \u001b[39mif\u001b[39;00m i\u001b[39m.\u001b[39mstartswith(\u001b[39m'\u001b[39m\u001b[39mquery\u001b[39m\u001b[39m'\u001b[39m)][\u001b[39m0\u001b[39m],\n\u001b[1;32m     57\u001b[0m                                 \u001b[39m'\u001b[39m\u001b[39marticlesets\u001b[39m\u001b[39m'\u001b[39m)\n\u001b[1;32m     58\u001b[0m     papers \u001b[39m=\u001b[39m []\n\u001b[1;32m     59\u001b[0m     count \u001b[39m=\u001b[39m \u001b[39m1\u001b[39m\n",
      "\u001b[0;31mNameError\u001b[0m: name 'ROOT_PATH' is not defined"
     ]
    }
   ],
   "source": [
    "run_author_finder(tasks_to_run, ROOT_PATH, output = 'csv') # output = 'txt'"
   ]
  },
  {
   "attachments": {},
   "cell_type": "markdown",
   "id": "ec86bab4",
   "metadata": {},
   "source": [
    "### Option 2: Run step-by-step"
   ]
  },
  {
   "cell_type": "code",
   "execution_count": null,
   "id": "3ef12174",
   "metadata": {},
   "outputs": [],
   "source": [
    "task_to_run = tasks_to_run[0] # CHANGE THIS\n",
    "\n",
    "outpath = os.path.join(ROOT_PATH, task_to_run)"
   ]
  },
  {
   "cell_type": "code",
   "execution_count": null,
   "id": "73f0cd25",
   "metadata": {},
   "outputs": [],
   "source": [
    "# 1. pubmed search\n",
    "do_pubget_query(task_keywords[task_to_run], outpath) # writes directory with search results"
   ]
  },
  {
   "cell_type": "code",
   "execution_count": null,
   "id": "ef4dba3d",
   "metadata": {},
   "outputs": [],
   "source": [
    "# 2. Pull emails and PMCIDS\n",
    "query_path = os.path.join(outpath,\n",
    "                           [i for i in os.listdir(ROOT_PATH + task_to_run) if i.startswith('query')][0],\n",
    "                           'articlesets')\n",
    "papers = get_all_emails(query_path) # PMCIDs and emails"
   ]
  },
  {
   "cell_type": "code",
   "execution_count": null,
   "id": "c55d0845",
   "metadata": {},
   "outputs": [],
   "source": [
    "# 3. Top 100 most cited\n",
    "papers_top = get_most_cited(papers, n=100)"
   ]
  },
  {
   "cell_type": "code",
   "execution_count": null,
   "id": "6a111086",
   "metadata": {},
   "outputs": [],
   "source": [
    "# 4. write output\n",
    "write_papers_csv(papers_top, outpath) \n",
    "# OR\n",
    "write_email_txt(papers_top, outpath)"
   ]
  },
  {
   "attachments": {},
   "cell_type": "markdown",
   "id": "949478b4",
   "metadata": {},
   "source": [
    "### CURRENT CAVEATS"
   ]
  },
  {
   "attachments": {},
   "cell_type": "markdown",
   "id": "5bd3dfb7",
   "metadata": {},
   "source": [
    "1. The keywords are imperfect. Including \"task\" will exclude a lot of good papers, but leaving it out means we get articles like [this article](https://www.ncbi.nlm.nih.gov/pmc/articles/PMC4359377/) that are about the 'stop codon acting as a stop signal' and not about the stop signal task at all."
   ]
  },
  {
   "attachments": {},
   "cell_type": "markdown",
   "id": "08c3de6f",
   "metadata": {},
   "source": [
    "2. A few emails are lost (somewhere in the ballpark of 2%). I'm not worried."
   ]
  },
  {
   "attachments": {},
   "cell_type": "markdown",
   "id": "30830862",
   "metadata": {},
   "source": [
    "3. We are sorting by # of citations only of other papers in PMC (not necessarily all citations of the paper, but just the ones in PMC). "
   ]
  },
  {
   "attachments": {},
   "cell_type": "markdown",
   "id": "32d357b8",
   "metadata": {},
   "source": [
    "4. This search only gets open access papers, which is not all possible serach results."
   ]
  }
 ],
 "metadata": {
  "kernelspec": {
   "display_name": "Python 3 (ipykernel)",
   "language": "python",
   "name": "python3"
  },
  "language_info": {
   "codemirror_mode": {
    "name": "ipython",
    "version": 3
   },
   "file_extension": ".py",
   "mimetype": "text/x-python",
   "name": "python",
   "nbconvert_exporter": "python",
   "pygments_lexer": "ipython3",
   "version": "3.10.9"
  }
 },
 "nbformat": 4,
 "nbformat_minor": 5
}
