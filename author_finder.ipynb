{
 "cells": [
  {
   "attachments": {},
   "cell_type": "markdown",
   "id": "c90bf3f0",
   "metadata": {},
   "source": [
    "# RDoC Expert Survey Author Finder\n",
    "Chris Iyer\n",
    "Updated 3/23/2023\n",
    "\n",
    "This is a notebook designed to find authors' emails for the purposes of sending them our RDoC Expert Survey Screener. Leveraging functions from `author_finder_functions.py`, this notebook will do the following things for each of the tasks we are using:\n",
    "1. Search pubmed central (PMC) for open-access articles in the past 10 years with task keywords in the abstract.\n",
    "2. Obtain correspondence/author emails for as many of these articles as possible.\n",
    "3. Retrieve the number of PMC articles that cite the given PMC article.\n",
    "4. Select the top <n> (100?) most-cited papers and retrieve their emails in order to send them our expert screener. \n",
    "5. We'll write these emails to a CSV.\n"
   ]
  },
  {
   "cell_type": "code",
   "execution_count": 3,
   "id": "bc3efeb2",
   "metadata": {},
   "outputs": [],
   "source": [
    "from author_finder_functions import *"
   ]
  },
  {
   "cell_type": "code",
   "execution_count": 11,
   "id": "a99ce4b4",
   "metadata": {},
   "outputs": [],
   "source": [
    "ROOT_PATH = '/Users/chrisiyer/_Current/lab/code/author_finder/pubget_data/' # change this to match your local desired path\n",
    "\n",
    "# tasks: 'spatial_cueing', 'visual_search', 'cued_ts', 'ax_cpt', 'flanker', 'stroop', 'stop_signal', 'go_nogo', 'span', 'change_detection', 'n_back'\n",
    "task_to_run = 'stop_signal'\n",
    "\n",
    "# if you would like to manually change the keywords to search through, do so here:\n",
    "task_keywords[task_to_run] = ['stop-signal task', 'stop signal task']"
   ]
  },
  {
   "attachments": {},
   "cell_type": "markdown",
   "id": "f8d53f9a",
   "metadata": {},
   "source": [
    "### Option 1: run all-in-one"
   ]
  },
  {
   "cell_type": "code",
   "execution_count": 3,
   "id": "1aea3a17",
   "metadata": {},
   "outputs": [
    {
     "name": "stderr",
     "output_type": "stream",
     "text": [
      "INFO\t2023-04-05T11:23:36-0700\tpubget._download\tDownloading data in /Users/chrisiyer/_Current/lab/code/author_finder/pubget_data/stop_signal/query_985725b7fed8fc29d2aca0ec88f29238/articlesets\n",
      "INFO\t2023-04-05T11:23:36-0700\tpubget._download\tPerforming search\n",
      "INFO\t2023-04-05T11:23:37-0700\tpubget._entrez\tSearch returned 337 results\n",
      "INFO\t2023-04-05T11:23:37-0700\tpubget._entrez\tDownloading 337 articles (in 1 batches)\n",
      "INFO\t2023-04-05T11:23:37-0700\tpubget._entrez\tgetting batch 1 / 1\n",
      "INFO\t2023-04-05T11:23:47-0700\tpubget._download\tFinished downloading articles in /Users/chrisiyer/_Current/lab/code/author_finder/pubget_data/stop_signal/query_985725b7fed8fc29d2aca0ec88f29238/articlesets\n",
      "INFO\t2023-04-05T11:23:47-0700\tpubget._download\tAll articles matching the query have been downloaded\n",
      "INFO\t2023-04-05T11:23:47-0700\tpubget._articles\tExtracting articles from /Users/chrisiyer/_Current/lab/code/author_finder/pubget_data/stop_signal/query_985725b7fed8fc29d2aca0ec88f29238/articlesets to /Users/chrisiyer/_Current/lab/code/author_finder/pubget_data/stop_signal/query_985725b7fed8fc29d2aca0ec88f29238/articles\n",
      "INFO\t2023-04-05T11:23:47-0700\tpubget._articles\tExtracting articles from PMC articlesets.\n",
      "[Parallel(n_jobs=1)]: Using backend SequentialBackend with 1 concurrent workers.\n",
      "[Parallel(n_jobs=1)]: Done   1 out of   1 | elapsed:    2.5s remaining:    0.0s\n",
      "[Parallel(n_jobs=1)]: Done   1 out of   1 | elapsed:    2.5s finished\n",
      "INFO\t2023-04-05T11:23:49-0700\tpubget._articles\tDone extracting 337 articles from PMC articlesets.\n",
      "INFO\t2023-04-05T11:23:49-0700\tpubget._articles\tExtracting tables from articles.\n",
      "[Parallel(n_jobs=1)]: Using backend SequentialBackend with 1 concurrent workers.\n",
      "[Parallel(n_jobs=1)]: Done   1 out of   1 | elapsed:    0.4s remaining:    0.0s\n",
      "[Parallel(n_jobs=1)]: Done   2 out of   2 | elapsed:    0.4s remaining:    0.0s\n",
      "[Parallel(n_jobs=1)]: Done   3 out of   3 | elapsed:    0.5s remaining:    0.0s\n",
      "[Parallel(n_jobs=1)]: Done   4 out of   4 | elapsed:    0.5s remaining:    0.0s\n",
      "[Parallel(n_jobs=1)]: Done   5 out of   5 | elapsed:    0.6s remaining:    0.0s\n",
      "[Parallel(n_jobs=1)]: Done   6 out of   6 | elapsed:    0.6s remaining:    0.0s\n",
      "[Parallel(n_jobs=1)]: Done   7 out of   7 | elapsed:    0.6s remaining:    0.0s\n",
      "[Parallel(n_jobs=1)]: Done 337 out of 337 | elapsed:   14.0s finished\n",
      "INFO\t2023-04-05T11:24:03-0700\tpubget._articles\tDone extracting tables from articles.\n",
      "INFO\t2023-04-05T11:24:03-0700\tpubget._articles\tExtracted 337 articles from /Users/chrisiyer/_Current/lab/code/author_finder/pubget_data/stop_signal/query_985725b7fed8fc29d2aca0ec88f29238/articlesets to /Users/chrisiyer/_Current/lab/code/author_finder/pubget_data/stop_signal/query_985725b7fed8fc29d2aca0ec88f29238/articles\n",
      "INFO\t2023-04-05T11:24:03-0700\tpubget._data_extraction\tExtracting data from articles in /Users/chrisiyer/_Current/lab/code/author_finder/pubget_data/stop_signal/query_985725b7fed8fc29d2aca0ec88f29238/articles to /Users/chrisiyer/_Current/lab/code/author_finder/pubget_data/stop_signal/query_985725b7fed8fc29d2aca0ec88f29238/subset_allArticles_extractedData\n",
      "INFO\t2023-04-05T11:24:07-0700\tpubget._data_extraction\tProcessed 100 / 337 articles.\n",
      "INFO\t2023-04-05T11:24:11-0700\tpubget._data_extraction\tProcessed 200 / 337 articles.\n",
      "INFO\t2023-04-05T11:24:15-0700\tpubget._data_extraction\tProcessed 300 / 337 articles.\n",
      "INFO\t2023-04-05T11:24:17-0700\tpubget._data_extraction\tProcessed 337 / 337 articles.\n",
      "INFO\t2023-04-05T11:24:17-0700\tpubget._data_extraction\tDone extracting article data to csv files in /Users/chrisiyer/_Current/lab/code/author_finder/pubget_data/stop_signal/query_985725b7fed8fc29d2aca0ec88f29238/subset_allArticles_extractedData\n"
     ]
    },
    {
     "name": "stdout",
     "output_type": "stream",
     "text": [
      "Article set #1:\n",
      "Out of 337 papers, 329 had emails and 8 did not.\n",
      "Result: 337 papers; 329 with emails.\n"
     ]
    },
    {
     "data": {
      "text/plain": [
       "array(['Chambersc1@cardiff.ac.uk', 'D.vanRooij@donders.ru.nl',\n",
       "       'David.sharp@imperial.ac.uk', 'F.L.J.Verbruggen@exeter.ac.uk',\n",
       "       'Hoptman@nki.rfmh.org', 'Jan-Wessel@uiowa.edu',\n",
       "       'Marieke.mur@mrc-cbu.cam.ac.uk', 'Natalia.Lawrence@exeter.ac.uk',\n",
       "       'a.c.sanchesferreira@bham.ac.uk', 'a.hampshire@imperial.ac.uk',\n",
       "       'adamaron@ucsd.edu', 'adamsrc1@cardiff.ac.uk', 'agrethe@ucsd.edu',\n",
       "       'ajj@liv.ac.uk', 'am2505@medschl.cam.ac.uk', 'amdale@ucsd.edu',\n",
       "       'amy_caswell@brown.edu', 'andbari@gmail.com',\n",
       "       'angie.kehagia@gmail.com', 'anne_gaertner@tu-dresden.de',\n",
       "       'assari@umich.edu', 'auda@ncu.edu.tw', 'ayayak-tky@umin.ac.jp',\n",
       "       'b.c.h.huijgen@umcg.nl', 'b.franke@donders.ru.nl',\n",
       "       'b.vanhulst@umcutrecht.nl', 'c.beckmann@donders.ru.nl',\n",
       "       'c.hartman@accare.nl', 'c.lavallee@uni-oldenburg.de',\n",
       "       'c.padilla@uib.es', 'c.rae@bsms.ac.uk', 'c3chen@ntu.edu.tw',\n",
       "       'charlotte.rae@mrc-cbu.cam.ac.uk', 'chiang-shan.li@yale.edu',\n",
       "       'chijuan@cc.ncu.edu.tw', 'claire.ocallaghan@sydney.edu.au',\n",
       "       'creuter@ucsd.edu', 'd.j.heslenfeld@vu.nl', 'dhagler@ucsd.edu',\n",
       "       'dlliao@balipc.gov.tw', 'e.hartman@umcg.nl', 'ebojanek@ku.edu',\n",
       "       'edcook@uic.edu', 'eyalkala@post.bgu.ac.il',\n",
       "       'f.l.j.verbruggen@exeter.ac.uk', 'farshad.mansouri@monash.edu',\n",
       "       'frankhezemans@gmail.com', 'frederick.verbruggen@ugent.be',\n",
       "       'friehs@uni-trier.de', 'i.m.j.van.der.fels@umcg.nl',\n",
       "       'inge.leunissen@kuleuven.be', 'ioannik@doctors.org.uk',\n",
       "       'j.oosterlaan@vu.nl', 'jaime.ide@stonybrook.edu',\n",
       "       'james.rowe@mrc-cbu.cam.ac.uk', 'jan-wessel@uiowa.edu',\n",
       "       'jan.buitelaar@radboudumc.nl', 'jasmin.vassileva@vcuhealth.org',\n",
       "       'jeffrey.d.schall@vanderbilt.edu', 'julien.bastin@ujf-grenoble.fr',\n",
       "       'k.a.p.m.lemmink@umcg.nl', 'k.gelade@yulius.nl',\n",
       "       'kiathui.khng@nie.edu.sg', 'kimsejoo@yuhs.ac', 'kjwonpt@gmail.com',\n",
       "       'kldyer@alumni.uwo.ca', 'l.verburgh@vu.nl',\n",
       "       'lauren.schmitt@cchmc.org', 'lbaines@liverpool.ac.uk',\n",
       "       'lcurley@ucsd.edu',\n",
       "       'leidy-janeth.castro-meneses@students.mq.edu.au',\n",
       "       'lhawk@buffalo.edu', 'lwko@mail.nctu.edu.tw',\n",
       "       'mariateresa.fiorenza@uniroma1.it', 'mcneilla@outlook.com',\n",
       "       'mfield@liverpool.ac.uk', 'mgbubnik@buffalo.edu',\n",
       "       'michael.anderson@mrc-cbu.cam.ac.uk', 'mjb246@exeter.ac.uk',\n",
       "       'mohsenbazargan@cdrewu.edu', 'mosconi@ku.edu', 'mrag@uic.edu',\n",
       "       'mroesch@umd.edu', 'mschel@fsw.leidenuniv.nl',\n",
       "       'nadine.eijsker@gmail.com', 'nakshoomoff@ucsd.edu',\n",
       "       'newmanerik@gmail.com', 'nmcn@psy.otago.ac.nz',\n",
       "       'nogac@post.bgu.ac.il', 'p.hoekstra@accare.nl',\n",
       "       'pahall@uwaterloo.ca', 'pbissett@stanford.edu',\n",
       "       'psyhsl@mail.ncku.edu.tw', 'pvlfilip@gmail.com',\n",
       "       'ran.littman@mail.huji.ac.il', 'rosch@kennedykrieger.org',\n",
       "       'russell.schachar@sickkids.ca', 'russell.schachar@sickkids.on.ca',\n",
       "       'sara.borgomaneri@unibo.it', 'sara.jahfari@gmail.com',\n",
       "       'savani.bartholdy@kcl.ac.uk', 'shanikaboyce@cdrewu.edu',\n",
       "       'sheng.zhang@yale.edu', 'shih-chieh.lin@nih.gov',\n",
       "       'sien.hu@yale.edu', 'simone.battaglia@unibo.it', 'sm658@cam.ac.uk',\n",
       "       'sponh001@umn.edu', 'stefano.ferraina@uniroma1.it',\n",
       "       'stefano.renzetti@unibs.it', 'stephan.heinzel@fu-berlin.de',\n",
       "       'stormi.pulver.white@emory.edu', 'sungnyunkim.snu@gmail.com',\n",
       "       'superego100@gmail.com', 'sweenej5@ucmail.uc.edu',\n",
       "       't.duka@sussex.ac.uk', 't.pattij@vumc.nl',\n",
       "       't.wolfers@donders.ru.nl', 'taylor.schmitz@mrc-cbu.cam.ac.uk',\n",
       "       'tian.bme@gmail.com.', 'tjernigan@ucsd.edu', 'ttbrown@ucsd.edu',\n",
       "       'vishal.rawji.11@ucl.ac.uk', 'voonval@gmail.com',\n",
       "       'vv247@cam.ac.uk', 'wdfosco@buffalo.edu', 'wkthompson@ucsd.edu',\n",
       "       'wqin@xidian.edu.cn', 'xiaoying@bit.edu.cn',\n",
       "       'xiongzhaozhu@163.com', 'yinhong@fmmu.edu.cn',\n",
       "       'yuhua.guo@mrc-cbu.cam.ac.uk'], dtype='<U46')"
      ]
     },
     "execution_count": 3,
     "metadata": {},
     "output_type": "execute_result"
    }
   ],
   "source": [
    "run_author_finder(task_to_run, ROOT_PATH, output = 'csv') # output = 'txt'"
   ]
  },
  {
   "attachments": {},
   "cell_type": "markdown",
   "id": "05ed3b57",
   "metadata": {},
   "source": [
    "### Option 2: run step-by-step"
   ]
  },
  {
   "cell_type": "code",
   "execution_count": null,
   "id": "ff22e7d9",
   "metadata": {},
   "outputs": [],
   "source": [
    "outpath = os.path.join(ROOT_PATH, task_to_run)"
   ]
  },
  {
   "cell_type": "code",
   "execution_count": null,
   "id": "459bb715",
   "metadata": {},
   "outputs": [],
   "source": [
    "# 1. pubmed search\n",
    "do_pubget_query(task_keywords[task_to_run], outpath) # writes directory with search results"
   ]
  },
  {
   "cell_type": "code",
   "execution_count": 12,
   "id": "6e1edf7a",
   "metadata": {},
   "outputs": [
    {
     "name": "stdout",
     "output_type": "stream",
     "text": [
      "Article set #1:\n",
      "Out of 337 papers, 329 had emails and 8 did not.\n"
     ]
    }
   ],
   "source": [
    "# 2. Pull emails and PMCIDS\n",
    "query_path = os.path.join(outpath,\n",
    "                           [i for i in os.listdir(ROOT_PATH + task_to_run) if i.startswith('query')][0],\n",
    "                           'articlesets')\n",
    "papers = get_all_emails(query_path) # PMCIDs and emails"
   ]
  },
  {
   "cell_type": "code",
   "execution_count": 13,
   "id": "906f24c0",
   "metadata": {},
   "outputs": [],
   "source": [
    "# 3. Top 100 most cited\n",
    "papers_top = get_most_cited(papers, n=100)"
   ]
  },
  {
   "cell_type": "code",
   "execution_count": 43,
   "id": "098c3d68",
   "metadata": {},
   "outputs": [
    {
     "data": {
      "text/plain": [
       "array(['Chambersc1@cardiff.ac.uk', 'F.L.J.Verbruggen@exeter.ac.uk',\n",
       "       'James.Rowe@mrc-cbu.cam.ac.uk', 'M.J.Howard@kent.ac.uk',\n",
       "       'Marieke.mur@mrc-cbu.cam.ac.uk', 'Natalia.Lawrence@exeter.ac.uk',\n",
       "       'a.c.sanchesferreira@bham.ac.uk', 'a.hampshire@imperial.ac.uk',\n",
       "       'adam.frost@ucsf.edu', 'adamaron@ucsd.edu',\n",
       "       'adamsrc1@cardiff.ac.uk', 'agrethe@ucsd.edu', 'ajj@liv.ac.uk',\n",
       "       'am2505@medschl.cam.ac.uk', 'amy_caswell@brown.edu',\n",
       "       'andbari@gmail.com', 'angie.kehagia@gmail.com',\n",
       "       'anna.wredenberg@ki.se', 'assari@umich.edu',\n",
       "       'ayayak-tky@umin.ac.jp', 'b.c.h.huijgen@umcg.nl',\n",
       "       'bernd-fritzsch@uiowa.edu',\n",
       "       'bernhard.nieswandt@virchow.uni-wuerzburg.de',\n",
       "       'c.lavallee@uni-oldenburg.de', 'c.rae@bsms.ac.uk',\n",
       "       'c3chen@ntu.edu.tw', 'charlotte.rae@mrc-cbu.cam.ac.uk',\n",
       "       'chiang-shan.li@yale.edu', 'chijuan@cc.ncu.edu.tw',\n",
       "       'choijs73@gmail.com', 'christoph.freyer@ki.se',\n",
       "       'claire.ocallaghan@sydney.edu.au', 'd.matzke@uva.nl',\n",
       "       'd.vanrooij@fcdonders.ru.nl', 'dan.larson@nih.gov',\n",
       "       'david.weinberg@ucsf.edu', 'dlliao@balipc.gov.tw',\n",
       "       'ellen.vanderplas@sickkids.ca', 'eyalkala@post.bgu.ac.il',\n",
       "       'f.l.j.verbruggen@exeter.ac.uk', 'farshad.mansouri@monash.edu',\n",
       "       'frankhezemans@gmail.com', 'frederick.verbruggen@ugent.be',\n",
       "       'friehs@uni-trier.de', 'gaertnj@med.uni-goettingen.de',\n",
       "       'giovanni.mirabella@uniroma1.it', 'h.elchlepp@exeter.ac.uk',\n",
       "       'hbellen@bcm.edu', 'hedgec@cardiff.ac.uk',\n",
       "       'ioannik@doctors.org.uk', 'james.rowe@mrc-cbu.cam.ac.uk',\n",
       "       'jan-wessel@uiowa.edu', 'jasmin.vassileva@vcuhealth.org',\n",
       "       'jeffrey.d.schall@vanderbilt.edu', 'jgeorge@uab.edu',\n",
       "       'jnieh@ucsd.edu', 'jongrant@uchicago.edu',\n",
       "       'journals.permissions@oup.com', 'julien.bastin@ujf-grenoble.fr',\n",
       "       'kat35@cam.ac.uk', 'kdj922@catholic.ac.kr', 'kentan@xtbg.ac.cn',\n",
       "       'kiathui.khng@nie.edu.sg', 'kimsejoo@yuhs.ac',\n",
       "       'kldyer@alumni.uwo.ca', 'l.verburgh@vu.nl',\n",
       "       'leidy-janeth.castro-meneses@students.mq.edu.au',\n",
       "       'lhawk@buffalo.edu', 'luhmann@uni-mainz.de',\n",
       "       'maria.leggio@uniroma1.it', 'mfield@liverpool.ac.uk',\n",
       "       'mgbubnik@buffalo.edu', 'michael.anderson@mrc-cbu.cam.ac.uk',\n",
       "       'mjb246@exeter.ac.uk', 'mjmaraver@ugr.es',\n",
       "       'mohsenbazargan@cdrewu.edu', 'mpardue@emory.edu',\n",
       "       'mroesch@umd.edu', 'mromano@unich.it', 'mschel@fsw.leidenuniv.nl',\n",
       "       'nogac@post.bgu.ac.il', 'ns594@cam.ac.uk',\n",
       "       'olivier.namy@igmors.u-psud.fr', 'pbissett@stanford.edu',\n",
       "       'peter@petersmittenaar.com', 'peter@walterlab.ucsf.edu',\n",
       "       'petra.fischer@ndcn.ox.ac.uk', 'ragreen@jhmi.edu',\n",
       "       'ran.littman@mail.huji.ac.il', 'roderic.guigo@crg.cat',\n",
       "       'rosch@kennedykrieger.org', 'rturner@pitt.edu',\n",
       "       'russell.schachar@sickkids.on.ca', 's.geppert@uni-oldenburg.de',\n",
       "       'sara.borgomaneri@unibo.it', 'shanikaboyce@cdrewu.edu',\n",
       "       'sheng.zhang@yale.edu', 'sien.hu@yale.edu',\n",
       "       'simone.battaglia@unibo.it', 'sm658@cam.ac.uk',\n",
       "       'stefano.ferraina@uniroma1.it', 'stephan.heinzel@fu-berlin.de',\n",
       "       'sven.thoms@med.uni-goettingen.de', 't.duka@sussex.ac.uk',\n",
       "       'taylor.schmitz@mrc-cbu.cam.ac.uk', 'tcunillera@ub.edu',\n",
       "       'tian.bme@gmail.com.', 'vgladyshev@rics.bwh.harvard.edu',\n",
       "       'vishal.rawji.11@ucl.ac.uk', 'voonval@gmail.com',\n",
       "       'vv247@cam.ac.uk', 'warren.tate@otago.ac.nz',\n",
       "       'wdfosco@buffalo.edu', 'yuhua.guo@mrc-cbu.cam.ac.uk'], dtype='<U46')"
      ]
     },
     "execution_count": 43,
     "metadata": {},
     "output_type": "execute_result"
    }
   ],
   "source": [
    "# 4. write output\n",
    "write_papers_csv(papers_top, outpath) \n",
    "# OR\n",
    "write_email_txt(papers_top, outpath)"
   ]
  },
  {
   "attachments": {},
   "cell_type": "markdown",
   "id": "949478b4",
   "metadata": {},
   "source": [
    "### CURRENT CAVEATS"
   ]
  },
  {
   "attachments": {},
   "cell_type": "markdown",
   "id": "5bd3dfb7",
   "metadata": {},
   "source": [
    "1. The keywords are imperfect. Including \"task\" will exclude a lot of good papers, but leaving it out means we get articles like [this article](https://www.ncbi.nlm.nih.gov/pmc/articles/PMC4359377/) that are about the 'stop codon acting as a stop signal' and not about the stop signal task at all."
   ]
  },
  {
   "attachments": {},
   "cell_type": "markdown",
   "id": "08c3de6f",
   "metadata": {},
   "source": [
    "2. A few emails are lost (somewhere in the ballpark of 2%). I'm not worried."
   ]
  },
  {
   "attachments": {},
   "cell_type": "markdown",
   "id": "30830862",
   "metadata": {},
   "source": [
    "3. We are sorting by # of citations only of other papers in PMC (not necessarily all citations of the paper, but just the ones in PMC). "
   ]
  },
  {
   "attachments": {},
   "cell_type": "markdown",
   "id": "32d357b8",
   "metadata": {},
   "source": [
    "4. This search only gets open access papers, which is not all possible serach results."
   ]
  }
 ],
 "metadata": {
  "kernelspec": {
   "display_name": "Python 3 (ipykernel)",
   "language": "python",
   "name": "python3"
  },
  "language_info": {
   "codemirror_mode": {
    "name": "ipython",
    "version": 3
   },
   "file_extension": ".py",
   "mimetype": "text/x-python",
   "name": "python",
   "nbconvert_exporter": "python",
   "pygments_lexer": "ipython3",
   "version": "3.10.9"
  }
 },
 "nbformat": 4,
 "nbformat_minor": 5
}
